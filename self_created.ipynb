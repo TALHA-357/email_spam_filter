{
 "cells": [
  {
   "cell_type": "code",
   "execution_count": 1,
   "metadata": {},
   "outputs": [],
   "source": [
    "import pandas as pd\n",
    "import numpy as np\n",
    "import nltk\n",
    "from nltk.tokenize import word_tokenize"
   ]
  },
  {
   "cell_type": "code",
   "execution_count": 2,
   "metadata": {},
   "outputs": [
    {
     "data": {
      "text/html": [
       "<div>\n",
       "<style scoped>\n",
       "    .dataframe tbody tr th:only-of-type {\n",
       "        vertical-align: middle;\n",
       "    }\n",
       "\n",
       "    .dataframe tbody tr th {\n",
       "        vertical-align: top;\n",
       "    }\n",
       "\n",
       "    .dataframe thead th {\n",
       "        text-align: right;\n",
       "    }\n",
       "</style>\n",
       "<table border=\"1\" class=\"dataframe\">\n",
       "  <thead>\n",
       "    <tr style=\"text-align: right;\">\n",
       "      <th></th>\n",
       "      <th>email</th>\n",
       "      <th>label</th>\n",
       "    </tr>\n",
       "  </thead>\n",
       "  <tbody>\n",
       "    <tr>\n",
       "      <th>0</th>\n",
       "      <td>upgrade to our premium plan for exclusive acce...</td>\n",
       "      <td>ham</td>\n",
       "    </tr>\n",
       "    <tr>\n",
       "      <th>1</th>\n",
       "      <td>happy holidays from our team! wishing you joy ...</td>\n",
       "      <td>ham</td>\n",
       "    </tr>\n",
       "    <tr>\n",
       "      <th>2</th>\n",
       "      <td>we're hiring! check out our career opportuniti...</td>\n",
       "      <td>ham</td>\n",
       "    </tr>\n",
       "    <tr>\n",
       "      <th>3</th>\n",
       "      <td>your amazon account has been locked. click her...</td>\n",
       "      <td>spam</td>\n",
       "    </tr>\n",
       "    <tr>\n",
       "      <th>4</th>\n",
       "      <td>your opinion matters! take our survey and help...</td>\n",
       "      <td>ham</td>\n",
       "    </tr>\n",
       "  </tbody>\n",
       "</table>\n",
       "</div>"
      ],
      "text/plain": [
       "                                               email label\n",
       "0  upgrade to our premium plan for exclusive acce...   ham\n",
       "1  happy holidays from our team! wishing you joy ...   ham\n",
       "2  we're hiring! check out our career opportuniti...   ham\n",
       "3  your amazon account has been locked. click her...  spam\n",
       "4  your opinion matters! take our survey and help...   ham"
      ]
     },
     "execution_count": 2,
     "metadata": {},
     "output_type": "execute_result"
    }
   ],
   "source": [
    "df = pd.read_csv('email_classification.csv')\n",
    "df['email'] = df['email'].str.lower()\n",
    "df.head()"
   ]
  },
  {
   "cell_type": "code",
   "execution_count": 3,
   "metadata": {},
   "outputs": [],
   "source": [
    "words = np.array([])\n",
    "for item in df['email']:\n",
    "    token = word_tokenize(item)\n",
    "    for i in token:\n",
    "        if i not in words:\n",
    "            words = np.append(words,i)"
   ]
  },
  {
   "cell_type": "code",
   "execution_count": 4,
   "metadata": {},
   "outputs": [
    {
     "data": {
      "text/html": [
       "<div>\n",
       "<style scoped>\n",
       "    .dataframe tbody tr th:only-of-type {\n",
       "        vertical-align: middle;\n",
       "    }\n",
       "\n",
       "    .dataframe tbody tr th {\n",
       "        vertical-align: top;\n",
       "    }\n",
       "\n",
       "    .dataframe thead th {\n",
       "        text-align: right;\n",
       "    }\n",
       "</style>\n",
       "<table border=\"1\" class=\"dataframe\">\n",
       "  <thead>\n",
       "    <tr style=\"text-align: right;\">\n",
       "      <th></th>\n",
       "      <th>Words</th>\n",
       "      <th>Spam Count</th>\n",
       "      <th>Ham Count</th>\n",
       "      <th>Spam Count Prob</th>\n",
       "      <th>Ham Count Prob</th>\n",
       "    </tr>\n",
       "  </thead>\n",
       "  <tbody>\n",
       "    <tr>\n",
       "      <th>0</th>\n",
       "      <td>upgrade</td>\n",
       "      <td>3.0</td>\n",
       "      <td>8.0</td>\n",
       "      <td>0.001437</td>\n",
       "      <td>0.002861</td>\n",
       "    </tr>\n",
       "    <tr>\n",
       "      <th>1</th>\n",
       "      <td>to</td>\n",
       "      <td>79.0</td>\n",
       "      <td>53.0</td>\n",
       "      <td>0.037853</td>\n",
       "      <td>0.018956</td>\n",
       "    </tr>\n",
       "    <tr>\n",
       "      <th>2</th>\n",
       "      <td>our</td>\n",
       "      <td>71.0</td>\n",
       "      <td>93.0</td>\n",
       "      <td>0.034020</td>\n",
       "      <td>0.033262</td>\n",
       "    </tr>\n",
       "    <tr>\n",
       "      <th>3</th>\n",
       "      <td>premium</td>\n",
       "      <td>8.0</td>\n",
       "      <td>5.0</td>\n",
       "      <td>0.003833</td>\n",
       "      <td>0.001788</td>\n",
       "    </tr>\n",
       "    <tr>\n",
       "      <th>4</th>\n",
       "      <td>plan</td>\n",
       "      <td>1.0</td>\n",
       "      <td>3.0</td>\n",
       "      <td>0.000479</td>\n",
       "      <td>0.001073</td>\n",
       "    </tr>\n",
       "  </tbody>\n",
       "</table>\n",
       "</div>"
      ],
      "text/plain": [
       "     Words  Spam Count  Ham Count  Spam Count Prob  Ham Count Prob\n",
       "0  upgrade         3.0        8.0         0.001437        0.002861\n",
       "1       to        79.0       53.0         0.037853        0.018956\n",
       "2      our        71.0       93.0         0.034020        0.033262\n",
       "3  premium         8.0        5.0         0.003833        0.001788\n",
       "4     plan         1.0        3.0         0.000479        0.001073"
      ]
     },
     "execution_count": 4,
     "metadata": {},
     "output_type": "execute_result"
    }
   ],
   "source": [
    "word_list = np.array([])\n",
    "spam_list = np.array([])\n",
    "ham_list = np.array([])\n",
    "spam_count = 0\n",
    "ham_count = 0\n",
    "for word in words:\n",
    "    for i in range(179):\n",
    "        row = df.iloc[i]\n",
    "        if((word in row['email']) and (row['label'] == 'spam')):\n",
    "            spam_count+=1\n",
    "        elif((word in row['email']) and (row['label'] == 'ham')):\n",
    "            ham_count+=1\n",
    "    word_list = np.append(word_list,word)\n",
    "    spam_list = np.append(spam_list,spam_count)\n",
    "    ham_list = np.append(ham_list,ham_count)\n",
    "    spam_count = 0\n",
    "    ham_count = 0\n",
    "\n",
    "mydict = {\n",
    "    \"Words\":word_list,\n",
    "    \"Spam Count\":spam_list,\n",
    "    \"Ham Count\":ham_list\n",
    "}\n",
    "\n",
    "df2 = pd.DataFrame(mydict)\n",
    "df2['Spam Count'] = df2['Spam Count'] + 1\n",
    "df2['Ham Count'] = df2['Ham Count'] +1\n",
    "df2['Spam Count Prob'] = df2['Spam Count']/df2['Spam Count'].sum()\n",
    "df2['Ham Count Prob'] = df2['Ham Count']/df2['Ham Count'].sum()\n",
    "df2.head()"
   ]
  },
  {
   "cell_type": "code",
   "execution_count": 5,
   "metadata": {},
   "outputs": [
    {
     "name": "stdout",
     "output_type": "stream",
     "text": [
      "Spam Probability :  83.94989984664161 %\n",
      "Ham Probability :  16.050100153358382 %\n"
     ]
    }
   ],
   "source": [
    "prob_ham = 100/179\n",
    "prob_spam = 79/179\n",
    "# email = \"\"\" Your account has been blocked. Congratulations you have won 100 dollars for free\"\"\"\n",
    "email = \"\"\" Congradulations you have won 10000 dollars.\"\"\"\n",
    "email = email.lower()\n",
    "test_list = word_tokenize(email)\n",
    "result1 = 1\n",
    "for test_word in test_list:\n",
    "    for i in range(len(df2)):\n",
    "        myrow = df2.iloc[i]\n",
    "        if(myrow['Words'] == test_word):\n",
    "            result1 = result1 * myrow['Spam Count Prob'] \n",
    "\n",
    "result1 = result1 * prob_spam\n",
    "\n",
    "result2 = 1\n",
    "for test_word in test_list:\n",
    "    for i in range(len(df2)):\n",
    "        myrow = df2.iloc[i]\n",
    "        if(myrow['Words'] == test_word):\n",
    "            result2 = result2 * myrow['Ham Count Prob'] \n",
    "\n",
    "result2 = result2 * prob_ham\n",
    "\n",
    "final = result1 + result2\n",
    "\n",
    "print(\"Spam Probability : \",(result1/final)*100,\"%\")\n",
    "print(\"Ham Probability : \",(result2/final)*100,\"%\")"
   ]
  },
  {
   "cell_type": "code",
   "execution_count": null,
   "metadata": {},
   "outputs": [],
   "source": []
  }
 ],
 "metadata": {
  "kernelspec": {
   "display_name": "base",
   "language": "python",
   "name": "python3"
  },
  "language_info": {
   "codemirror_mode": {
    "name": "ipython",
    "version": 3
   },
   "file_extension": ".py",
   "mimetype": "text/x-python",
   "name": "python",
   "nbconvert_exporter": "python",
   "pygments_lexer": "ipython3",
   "version": "3.12.4"
  }
 },
 "nbformat": 4,
 "nbformat_minor": 2
}
